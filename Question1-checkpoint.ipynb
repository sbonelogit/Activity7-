{
 "cells": [
  {
   "cell_type": "code",
   "execution_count": 10,
   "id": "9daa3281-9307-4f40-a05d-23c96f99b544",
   "metadata": {},
   "outputs": [
    {
     "name": "stdout",
     "output_type": "stream",
     "text": [
      "[{'party_name': 'MK part 1', 'reg_number': 1000319, 'member_count': 1500}]\n"
     ]
    }
   ],
   "source": [
    "def register_party(parties):\n",
    "    filtered_parties = []\n",
    "    number_of_members = 1000  # Assuming this is the threshold for acceptable number of members\n",
    "\n",
    "    for party in parties:\n",
    "        if party[\"member_count\"] >= number_of_members:\n",
    "            filtered_parties.append(party)\n",
    "\n",
    "    return filtered_parties\n",
    "\n",
    "parties = [\n",
    "    {\"party_name\": \"MK part 1\", \"reg_number\": 1000319, \"member_count\": 1500},\n",
    "]\n",
    "\n",
    "filtered_parties = register_party(parties)\n",
    "print(filtered_parties)\n"
   ]
  },
  {
   "cell_type": "code",
   "execution_count": null,
   "id": "74a309aa-e880-4d87-bf61-f78eec1a7839",
   "metadata": {},
   "outputs": [],
   "source": []
  }
 ],
 "metadata": {
  "kernelspec": {
   "display_name": "Python 3 (ipykernel)",
   "language": "python",
   "name": "python3"
  },
  "language_info": {
   "codemirror_mode": {
    "name": "ipython",
    "version": 3
   },
   "file_extension": ".py",
   "mimetype": "text/x-python",
   "name": "python",
   "nbconvert_exporter": "python",
   "pygments_lexer": "ipython3",
   "version": "3.12.2"
  }
 },
 "nbformat": 4,
 "nbformat_minor": 5
}
