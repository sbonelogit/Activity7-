{
 "cells": [
  {
   "cell_type": "code",
   "execution_count": 1,
   "id": "4837b046-7243-43e4-bc08-efffcec5c598",
   "metadata": {},
   "outputs": [],
   "source": [
    "import pandas as pd\n",
    "import matplotlib.pyplot as plt"
   ]
  },
  {
   "cell_type": "code",
   "execution_count": 10,
   "id": "829573b4-ddf2-4bfc-a5ba-362e8bacab7d",
   "metadata": {},
   "outputs": [
    {
     "name": "stdout",
     "output_type": "stream",
     "text": [
      "               Name  Jersey Number     Club  Position Nationality   Age  \\\n",
      "5    William Saliba            4.0  Arsenal  Defender      France  19.0   \n",
      "6          Sokratis            5.0  Arsenal  Defender      Greece  32.0   \n",
      "7       Rob Holding           16.0  Arsenal  Defender     England  25.0   \n",
      "8  Shkodran Mustafi           20.0  Arsenal  Defender     Germany  28.0   \n",
      "\n",
      "   Appearances  Wins  Losses  Goals  ...  Punches  High Claims  Catches  \\\n",
      "5            0     0       0      0  ...      NaN          NaN      NaN   \n",
      "6           44    21      11      3  ...      NaN          NaN      NaN   \n",
      "7           41    25       9      0  ...      NaN          NaN      NaN   \n",
      "8           99    52      26      7  ...      NaN          NaN      NaN   \n",
      "\n",
      "   Sweeper clearances  Throw outs  Goal Kicks  Yellow cards  Red cards Fouls  \\\n",
      "5                 NaN         NaN         NaN             0          0     0   \n",
      "6                 NaN         NaN         NaN            18          0    56   \n",
      "7                 NaN         NaN         NaN             8          0    32   \n",
      "8                 NaN         NaN         NaN            28          0   117   \n",
      "\n",
      "   Offsides  \n",
      "5       0.0  \n",
      "6       1.0  \n",
      "7       0.0  \n",
      "8       7.0  \n",
      "\n",
      "[4 rows x 59 columns]\n"
     ]
    }
   ],
   "source": [
    "data=pd.read_csv(r\"C:\\Users\\User\\Downloads\\dataset - 2020-09-24.csv\")\n",
    "print(data[5:9])"
   ]
  },
  {
   "cell_type": "code",
   "execution_count": 11,
   "id": "3bddec8b-091a-41fe-97f8-f61604976f66",
   "metadata": {},
   "outputs": [
    {
     "name": "stdout",
     "output_type": "stream",
     "text": [
      "<class 'pandas.core.frame.DataFrame'>\n",
      "RangeIndex: 571 entries, 0 to 570\n",
      "Data columns (total 59 columns):\n",
      " #   Column                  Non-Null Count  Dtype  \n",
      "---  ------                  --------------  -----  \n",
      " 0   Name                    571 non-null    object \n",
      " 1   Jersey Number           563 non-null    float64\n",
      " 2   Club                    571 non-null    object \n",
      " 3   Position                571 non-null    object \n",
      " 4   Nationality             570 non-null    object \n",
      " 5   Age                     570 non-null    float64\n",
      " 6   Appearances             571 non-null    int64  \n",
      " 7   Wins                    571 non-null    int64  \n",
      " 8   Losses                  571 non-null    int64  \n",
      " 9   Goals                   571 non-null    int64  \n",
      " 10  Goals per match         309 non-null    float64\n",
      " 11  Headed goals            502 non-null    float64\n",
      " 12  Goals with right foot   502 non-null    float64\n",
      " 13  Goals with left foot    502 non-null    float64\n",
      " 14  Penalties scored        309 non-null    float64\n",
      " 15  Freekicks scored        309 non-null    float64\n",
      " 16  Shots                   309 non-null    float64\n",
      " 17  Shots on target         309 non-null    float64\n",
      " 18  Shooting accuracy %     309 non-null    object \n",
      " 19  Hit woodwork            502 non-null    float64\n",
      " 20  Big chances missed      309 non-null    float64\n",
      " 21  Clean sheets            262 non-null    float64\n",
      " 22  Goals conceded          262 non-null    float64\n",
      " 23  Tackles                 502 non-null    float64\n",
      " 24  Tackle success %        390 non-null    object \n",
      " 25  Last man tackles        193 non-null    float64\n",
      " 26  Blocked shots           502 non-null    float64\n",
      " 27  Interceptions           502 non-null    float64\n",
      " 28  Clearances              502 non-null    float64\n",
      " 29  Headed Clearance        502 non-null    float64\n",
      " 30  Clearances off line     193 non-null    float64\n",
      " 31  Recoveries              390 non-null    float64\n",
      " 32  Duels won               390 non-null    float64\n",
      " 33  Duels lost              390 non-null    float64\n",
      " 34  Successful 50/50s       390 non-null    float64\n",
      " 35  Aerial battles won      390 non-null    float64\n",
      " 36  Aerial battles lost     390 non-null    float64\n",
      " 37  Own goals               262 non-null    float64\n",
      " 38  Errors leading to goal  459 non-null    float64\n",
      " 39  Assists                 571 non-null    int64  \n",
      " 40  Passes                  571 non-null    int64  \n",
      " 41  Passes per match        571 non-null    float64\n",
      " 42  Big chances created     502 non-null    float64\n",
      " 43  Crosses                 502 non-null    float64\n",
      " 44  Cross accuracy %        390 non-null    object \n",
      " 45  Through balls           390 non-null    float64\n",
      " 46  Accurate long balls     459 non-null    float64\n",
      " 47  Saves                   69 non-null     float64\n",
      " 48  Penalties saved         69 non-null     float64\n",
      " 49  Punches                 69 non-null     float64\n",
      " 50  High Claims             69 non-null     float64\n",
      " 51  Catches                 69 non-null     float64\n",
      " 52  Sweeper clearances      69 non-null     float64\n",
      " 53  Throw outs              69 non-null     float64\n",
      " 54  Goal Kicks              69 non-null     float64\n",
      " 55  Yellow cards            571 non-null    int64  \n",
      " 56  Red cards               571 non-null    int64  \n",
      " 57  Fouls                   571 non-null    int64  \n",
      " 58  Offsides                502 non-null    float64\n",
      "dtypes: float64(43), int64(9), object(7)\n",
      "memory usage: 263.3+ KB\n",
      "None\n"
     ]
    }
   ],
   "source": [
    "print(data.info())"
   ]
  },
  {
   "cell_type": "code",
   "execution_count": 14,
   "id": "cdffc100-a878-4963-a4af-59bf04bc0404",
   "metadata": {},
   "outputs": [
    {
     "name": "stdout",
     "output_type": "stream",
     "text": [
      "       Jersey Number         Age  Appearances        Wins      Losses  \\\n",
      "count     563.000000  570.000000   571.000000  571.000000  571.000000   \n",
      "mean       19.534636   25.789474    68.823117   28.957968   23.896673   \n",
      "std        14.273515    4.377354    81.797516   38.969376   28.488376   \n",
      "min         1.000000   17.000000     0.000000    0.000000    0.000000   \n",
      "25%         8.000000   22.000000     3.000000    1.000000    1.000000   \n",
      "50%        18.000000   26.000000    36.000000   12.000000   14.000000   \n",
      "75%        27.000000   29.000000   108.000000   41.000000   36.000000   \n",
      "max        82.000000   38.000000   539.000000  272.000000  158.000000   \n",
      "\n",
      "            Goals  Goals per match  Headed goals  Goals with right foot  \\\n",
      "count  571.000000       309.000000    502.000000             502.000000   \n",
      "mean     7.327496         2.648414      1.414343               4.468127   \n",
      "std     16.810490         8.002117      3.433374              11.048341   \n",
      "min      0.000000         0.000000      0.000000               0.000000   \n",
      "25%      0.000000         0.050000      0.000000               0.000000   \n",
      "50%      1.000000         0.140000      0.000000               1.000000   \n",
      "75%      6.000000         0.390000      1.000000               3.000000   \n",
      "max    180.000000        57.000000     31.000000             127.000000   \n",
      "\n",
      "       Goals with left foot  ...     Punches  High Claims     Catches  \\\n",
      "count            502.000000  ...   69.000000    69.000000   69.000000   \n",
      "mean               2.388446  ...   24.652174    45.869565   20.782609   \n",
      "std                6.295652  ...   46.282644    82.332167   43.058397   \n",
      "min                0.000000  ...    0.000000     0.000000    0.000000   \n",
      "25%                0.000000  ...    0.000000     0.000000    0.000000   \n",
      "50%                0.000000  ...    2.000000     6.000000    3.000000   \n",
      "75%                2.000000  ...   31.000000    45.000000   17.000000   \n",
      "max               63.000000  ...  269.000000   391.000000  249.000000   \n",
      "\n",
      "       Sweeper clearances   Throw outs   Goal Kicks  Yellow cards   Red cards  \\\n",
      "count           69.000000    69.000000    69.000000    571.000000  571.000000   \n",
      "mean            25.565217   210.000000   414.144928      7.917688    0.301226   \n",
      "std             47.333758   334.822473   641.246265     11.556811    0.698607   \n",
      "min              0.000000     0.000000     0.000000      0.000000    0.000000   \n",
      "25%              0.000000     0.000000     0.000000      0.000000    0.000000   \n",
      "50%              4.000000    39.000000    53.000000      3.000000    0.000000   \n",
      "75%             28.000000   300.000000   527.000000     11.000000    0.000000   \n",
      "max            257.000000  1516.000000  2806.000000     81.000000    5.000000   \n",
      "\n",
      "            Fouls    Offsides  \n",
      "count  571.000000  502.000000  \n",
      "mean    53.033275   11.063745  \n",
      "std     75.605560   26.570058  \n",
      "min      0.000000    0.000000  \n",
      "25%      1.000000    0.000000  \n",
      "50%     22.000000    2.000000  \n",
      "75%     74.000000    8.750000  \n",
      "max    438.000000  203.000000  \n",
      "\n",
      "[8 rows x 52 columns]\n"
     ]
    }
   ],
   "source": [
    "print(data.describe())"
   ]
  },
  {
   "cell_type": "code",
   "execution_count": 15,
   "id": "95979756-97bd-489b-81b3-69fd1ffdf25a",
   "metadata": {},
   "outputs": [
    {
     "name": "stdout",
     "output_type": "stream",
     "text": [
      "Name                        0\n",
      "Jersey Number               8\n",
      "Club                        0\n",
      "Position                    0\n",
      "Nationality                 1\n",
      "Age                         1\n",
      "Appearances                 0\n",
      "Wins                        0\n",
      "Losses                      0\n",
      "Goals                       0\n",
      "Goals per match           262\n",
      "Headed goals               69\n",
      "Goals with right foot      69\n",
      "Goals with left foot       69\n",
      "Penalties scored          262\n",
      "Freekicks scored          262\n",
      "Shots                     262\n",
      "Shots on target           262\n",
      "Shooting accuracy %       262\n",
      "Hit woodwork               69\n",
      "Big chances missed        262\n",
      "Clean sheets              309\n",
      "Goals conceded            309\n",
      "Tackles                    69\n",
      "Tackle success %          181\n",
      "Last man tackles          378\n",
      "Blocked shots              69\n",
      "Interceptions              69\n",
      "Clearances                 69\n",
      "Headed Clearance           69\n",
      "Clearances off line       378\n",
      "Recoveries                181\n",
      "Duels won                 181\n",
      "Duels lost                181\n",
      "Successful 50/50s         181\n",
      "Aerial battles won        181\n",
      "Aerial battles lost       181\n",
      "Own goals                 309\n",
      "Errors leading to goal    112\n",
      "Assists                     0\n",
      "Passes                      0\n",
      "Passes per match            0\n",
      "Big chances created        69\n",
      "Crosses                    69\n",
      "Cross accuracy %          181\n",
      "Through balls             181\n",
      "Accurate long balls       112\n",
      "Saves                     502\n",
      "Penalties saved           502\n",
      "Punches                   502\n",
      "High Claims               502\n",
      "Catches                   502\n",
      "Sweeper clearances        502\n",
      "Throw outs                502\n",
      "Goal Kicks                502\n",
      "Yellow cards                0\n",
      "Red cards                   0\n",
      "Fouls                       0\n",
      "Offsides                   69\n",
      "dtype: int64\n"
     ]
    }
   ],
   "source": [
    "missing_values=data.isnull().sum()\n",
    "print(missing_values)"
   ]
  },
  {
   "cell_type": "code",
   "execution_count": 16,
   "id": "37edc879-9d7b-4bcb-837e-f5771903312d",
   "metadata": {},
   "outputs": [
    {
     "name": "stdout",
     "output_type": "stream",
     "text": [
      "0\n"
     ]
    }
   ],
   "source": [
    "print(data.duplicated().sum())"
   ]
  },
  {
   "cell_type": "code",
   "execution_count": 24,
   "id": "3fa757a8-fff4-4698-b6e4-418198909738",
   "metadata": {},
   "outputs": [
    {
     "data": {
      "image/png": "[encoded data removed]",
      "text/plain": [
       "<Figure size 800x900 with 1 Axes>"
      ]
     },
     "metadata": {},
     "output_type": "display_data"
    }
   ],
   "source": [
    "import matplotlib.pyplot as plt\n",
    "\n",
    "f = pd.DataFrame(data)\n",
    "\n",
    "plt.figure(figsize=(8, 9))\n",
    "plt.hist(df['Age'], bins=10, edgecolor='black')\n",
    "plt.xlabel('Age')\n",
    "plt.ylabel('Frequency')\n",
    "plt.title('Histogram of Player Ages')\n",
    "plt.grid(True)\n",
    "plt.tight_layout()\n",
    "\n",
    "plt.show()\n",
    "\n"
   ]
  },
  {
   "cell_type": "code",
   "execution_count": null,
   "id": "6dc74103-e3e9-49e4-a1a0-10b6adf5aea9",
   "metadata": {},
   "outputs": [],
   "source": []
  }
 ],
 "metadata": {
  "kernelspec": {
   "display_name": "Python 3 (ipykernel)",
   "language": "python",
   "name": "python3"
  },
  "language_info": {
   "codemirror_mode": {
    "name": "ipython",
    "version": 3
   },
   "file_extension": ".py",
   "mimetype": "text/x-python",
   "name": "python",
   "nbconvert_exporter": "python",
   "pygments_lexer": "ipython3",
   "version": "3.12.3"
  }
 },
 "nbformat": 4,
 "nbformat_minor": 5
}
